{
  "nbformat": 4,
  "nbformat_minor": 0,
  "metadata": {
    "colab": {
      "provenance": [],
      "authorship_tag": "ABX9TyP3BQ0r1kBTjh9dBYiQRV66",
      "include_colab_link": true
    },
    "kernelspec": {
      "name": "python3",
      "display_name": "Python 3"
    },
    "language_info": {
      "name": "python"
    }
  },
  "cells": [
    {
      "cell_type": "markdown",
      "metadata": {
        "id": "view-in-github",
        "colab_type": "text"
      },
      "source": [
        "<a href=\"https://colab.research.google.com/github/KuproyMalang/PCVK_Genap_2023/blob/main/Week5.ipynb\" target=\"_parent\"><img src=\"https://colab.research.google.com/assets/colab-badge.svg\" alt=\"Open In Colab\"/></a>"
      ]
    },
    {
      "cell_type": "code",
      "execution_count": 1,
      "metadata": {
        "colab": {
          "base_uri": "https://localhost:8080/"
        },
        "id": "-F_zgI5PKbee",
        "outputId": "3954bfbf-e97d-40bb-f83b-2a741df7ba1b"
      },
      "outputs": [
        {
          "output_type": "stream",
          "name": "stdout",
          "text": [
            "Mounted at /content/drive\n"
          ]
        }
      ],
      "source": [
        "from google.colab import drive\n",
        "drive.mount('/content/drive')"
      ]
    },
    {
      "cell_type": "code",
      "source": [
        "import cv2 as cv\n",
        "from google.colab.patches import cv2_imshow\n",
        "from skimage import io\n",
        "import matplotlib.pyplot as plt\n",
        "import numpy as np"
      ],
      "metadata": {
        "id": "ZCmMNpiCKuUM"
      },
      "execution_count": 2,
      "outputs": []
    },
    {
      "cell_type": "code",
      "source": [
        "image = cv.imread('/content/drive/MyDrive/Flower.JPG')\n",
        "gamma_image = np.zeros(image.shape, image.dtype)\n",
        "\n",
        "print('Gamma Correction pada citra')\n",
        "print('-------------------------------')\n",
        "try: \n",
        " gamma = int(input('Masukkan nilai Gamma:'))\n",
        "except ValueError:\n",
        " print('Error, not a number')\n",
        "\n",
        "for y in range(image.shape[0]):\n",
        "  for x in range(image.shape[1]):\n",
        "    for c in range(image.shape[2]):\n",
        "      gamma_image[y,x,c] = np.clip(255 * pow  (image[y,x,c] / 255, (1 / gamma)), 0, 255)\n",
        "\n",
        "output = cv.hconcat((image, gamma_image))\n",
        "cv2_imshow(output)"
      ],
      "metadata": {
        "colab": {
          "base_uri": "https://localhost:8080/"
        },
        "id": "poBfnmNbKwmo",
        "outputId": "bd360fcd-f938-4e85-cec8-eaf855f8117f"
      },
      "execution_count": null,
      "outputs": [
        {
          "name": "stdout",
          "output_type": "stream",
          "text": [
            "Gamma Correction pada citra\n",
            "-------------------------------\n",
            "Masukkan nilai Gamma:10\n"
          ]
        }
      ]
    },
    {
      "cell_type": "code",
      "source": [],
      "metadata": {
        "id": "ejhrvRN6Kwvv"
      },
      "execution_count": null,
      "outputs": []
    }
  ]
}